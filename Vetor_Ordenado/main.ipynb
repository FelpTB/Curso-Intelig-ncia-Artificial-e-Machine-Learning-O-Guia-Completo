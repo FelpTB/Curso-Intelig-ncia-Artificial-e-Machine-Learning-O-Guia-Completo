{
 "cells": [
  {
   "cell_type": "code",
   "execution_count": 3,
   "metadata": {},
   "outputs": [],
   "source": [
    "import numpy as np"
   ]
  },
  {
   "cell_type": "code",
   "execution_count": 4,
   "metadata": {},
   "outputs": [],
   "source": [
    "class VetorOrdenado:\n",
    "  \n",
    "  def __init__(self, capacidade):\n",
    "    self.capacidade = capacidade\n",
    "    self.ultima_posicao = -1\n",
    "    self.valores = np.empty(self.capacidade, dtype=int)\n",
    "\n",
    "  # O(n)\n",
    "  def imprime(self):\n",
    "    if self.ultima_posicao == -1:\n",
    "      print('O vetor está vazio')\n",
    "    else:\n",
    "      for i in range(self.ultima_posicao + 1):\n",
    "        print(i, ' - ', self.valores[i])\n",
    "\n",
    "  # O(n)\n",
    "  def insere(self, valor):\n",
    "    if self.ultima_posicao == self.capacidade - 1:\n",
    "      print('Capacidade máxima atingida')\n",
    "      return\n",
    "\n",
    "    posicao = 0\n",
    "    for i in range(self.ultima_posicao + 1):\n",
    "      posicao = i\n",
    "      if self.valores[i] > valor:\n",
    "        break\n",
    "      if i == self.ultima_posicao:\n",
    "        posicao = i + 1\n",
    "\n",
    "    x = self.ultima_posicao\n",
    "    while x >= posicao:\n",
    "      self.valores[x + 1] = self.valores[x]\n",
    "      x -= 1\n",
    "\n",
    "    self.valores[posicao] = valor\n",
    "    self.ultima_posicao += 1"
   ]
  },
  {
   "cell_type": "code",
   "execution_count": 6,
   "metadata": {},
   "outputs": [
    {
     "name": "stdout",
     "output_type": "stream",
     "text": [
      "0  -  6\n",
      "1  -  6\n"
     ]
    }
   ],
   "source": [
    "vetor = VetorOrdenado(10)\n",
    "vetor.insere(6)\n",
    "vetor.insere(6)\n",
    "vetor.imprime()"
   ]
  }
 ],
 "metadata": {
  "kernelspec": {
   "display_name": "Python 3",
   "language": "python",
   "name": "python3"
  },
  "language_info": {
   "codemirror_mode": {
    "name": "ipython",
    "version": 3
   },
   "file_extension": ".py",
   "mimetype": "text/x-python",
   "name": "python",
   "nbconvert_exporter": "python",
   "pygments_lexer": "ipython3",
   "version": "3.12.9"
  }
 },
 "nbformat": 4,
 "nbformat_minor": 2
}
